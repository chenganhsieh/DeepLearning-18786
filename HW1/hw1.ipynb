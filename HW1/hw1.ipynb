{
  "cells": [
    {
      "cell_type": "markdown",
      "id": "c574ceac-8715-4368-9f04-1342c814e8fd",
      "metadata": {
        "id": "c574ceac-8715-4368-9f04-1342c814e8fd"
      },
      "source": [
        "# HW1 - Exploring MLPs with PyTorch\n",
        "\n",
        "# Problem 1: Simple MLP for Binary Classification\n",
        "In this problem, you will train a simple MLP to classify two handwritten digits: 0 vs 1. We provide some starter codes to do this task with steps. However, you do not need to follow the exact steps as long as you can complete the task in sections marked as <span style=\"color:red\">[YOUR TASK]</span>.\n",
        "\n",
        "## Dataset Setup\n",
        "We will use the [MNIST dataset](http://yann.lecun.com/exdb/mnist/). The `torchvision` package has supported this dataset. We can load the dataset in this way (the dataset will take up 63M of your disk space):"
      ]
    },
    {
      "cell_type": "code",
      "execution_count": 1,
      "id": "2af33ec5-782b-4a0b-819b-f649500627c4",
      "metadata": {
        "colab": {
          "base_uri": "https://localhost:8080/"
        },
        "id": "2af33ec5-782b-4a0b-819b-f649500627c4",
        "outputId": "44b2fa5a-bda9-4489-8af7-b72f0425f231"
      },
      "outputs": [
        {
          "output_type": "stream",
          "name": "stdout",
          "text": [
            "Downloading http://yann.lecun.com/exdb/mnist/train-images-idx3-ubyte.gz\n",
            "Downloading http://yann.lecun.com/exdb/mnist/train-images-idx3-ubyte.gz to ./data/MNIST/raw/train-images-idx3-ubyte.gz\n"
          ]
        },
        {
          "output_type": "stream",
          "name": "stderr",
          "text": [
            "100%|██████████| 9912422/9912422 [00:00<00:00, 87054238.09it/s]\n"
          ]
        },
        {
          "output_type": "stream",
          "name": "stdout",
          "text": [
            "Extracting ./data/MNIST/raw/train-images-idx3-ubyte.gz to ./data/MNIST/raw\n",
            "\n",
            "Downloading http://yann.lecun.com/exdb/mnist/train-labels-idx1-ubyte.gz\n",
            "Downloading http://yann.lecun.com/exdb/mnist/train-labels-idx1-ubyte.gz to ./data/MNIST/raw/train-labels-idx1-ubyte.gz\n"
          ]
        },
        {
          "output_type": "stream",
          "name": "stderr",
          "text": [
            "100%|██████████| 28881/28881 [00:00<00:00, 25972490.10it/s]\n"
          ]
        },
        {
          "output_type": "stream",
          "name": "stdout",
          "text": [
            "Extracting ./data/MNIST/raw/train-labels-idx1-ubyte.gz to ./data/MNIST/raw\n",
            "\n",
            "Downloading http://yann.lecun.com/exdb/mnist/t10k-images-idx3-ubyte.gz\n",
            "Downloading http://yann.lecun.com/exdb/mnist/t10k-images-idx3-ubyte.gz to ./data/MNIST/raw/t10k-images-idx3-ubyte.gz\n"
          ]
        },
        {
          "output_type": "stream",
          "name": "stderr",
          "text": [
            "100%|██████████| 1648877/1648877 [00:00<00:00, 41889359.70it/s]\n"
          ]
        },
        {
          "output_type": "stream",
          "name": "stdout",
          "text": [
            "Extracting ./data/MNIST/raw/t10k-images-idx3-ubyte.gz to ./data/MNIST/raw\n",
            "\n",
            "Downloading http://yann.lecun.com/exdb/mnist/t10k-labels-idx1-ubyte.gz\n",
            "Downloading http://yann.lecun.com/exdb/mnist/t10k-labels-idx1-ubyte.gz to ./data/MNIST/raw/t10k-labels-idx1-ubyte.gz\n"
          ]
        },
        {
          "output_type": "stream",
          "name": "stderr",
          "text": [
            "100%|██████████| 4542/4542 [00:00<00:00, 6815931.58it/s]"
          ]
        },
        {
          "output_type": "stream",
          "name": "stdout",
          "text": [
            "Extracting ./data/MNIST/raw/t10k-labels-idx1-ubyte.gz to ./data/MNIST/raw\n",
            "\n"
          ]
        },
        {
          "output_type": "stream",
          "name": "stderr",
          "text": [
            "\n"
          ]
        }
      ],
      "source": [
        "import torch\n",
        "from torchvision import transforms, datasets\n",
        "\n",
        "\n",
        "# define the data pre-processing\n",
        "# convert the input to the range [-1, 1].\n",
        "transform = transforms.Compose(\n",
        "    [transforms.ToTensor(), transforms.Normalize(0.5, 0.5)]\n",
        "    )\n",
        "\n",
        "# Load the MNIST dataset\n",
        "# this command requires Internet to download the dataset\n",
        "mnist = datasets.MNIST(root='./data',\n",
        "                       train=True,\n",
        "                       download=True,\n",
        "                       transform=transform)\n",
        "mnist_test = datasets.MNIST(root='./data',\n",
        "                            train=False,\n",
        "                            download=True,\n",
        "                            transform=transform)"
      ]
    },
    {
      "cell_type": "markdown",
      "id": "d3208785-2d53-403a-9939-eaccf646f5cd",
      "metadata": {
        "id": "d3208785-2d53-403a-9939-eaccf646f5cd"
      },
      "source": [
        "In Problem 1, we only focus on a binary classification between digits 0 and 1. Thus we filter the dataset to contain only samples of digits 0 and 1. Besides, we want to randomly split the original training data into two disjoint datasets: a new training set containing 80\\% original training samples and a validation dataset containing 20\\% original training samples. We provide the incomplete code as a hint:"
      ]
    },
    {
      "cell_type": "code",
      "execution_count": 4,
      "id": "2ff472db-51ee-4835-8217-8557947f0624",
      "metadata": {
        "id": "2ff472db-51ee-4835-8217-8557947f0624"
      },
      "outputs": [],
      "source": [
        "from torch.utils.data import DataLoader\n",
        "\n",
        "# Filter for digits 0 and 1\n",
        "train_data = [data for data in mnist if data[1] < 2]\n",
        "# Your code goes here\n",
        "test_data = [data for data in mnist_test if data[1] < 2]\n",
        "\n",
        "# Split training data into training and validation sets\n",
        "# Your code goes here\n",
        "split_index = int(0.8 * len(train_data))\n",
        "train_set = train_data[:split_index]\n",
        "val_set = train_data[split_index:]\n",
        "\n",
        "# Define DataLoaders to access data in batches\n",
        "train_loader = DataLoader(train_set, batch_size=64, shuffle=True)\n",
        "# Your code goes here\n",
        "val_loader = DataLoader(val_set, batch_size=64, shuffle=True)\n",
        "test_loader = DataLoader(test_data, batch_size=64, shuffle=False)"
      ]
    },
    {
      "cell_type": "markdown",
      "id": "70c50a08-aee3-49ea-b220-7bffbc63a56d",
      "metadata": {
        "id": "70c50a08-aee3-49ea-b220-7bffbc63a56d"
      },
      "source": [
        "## Define an MLP\n",
        "We want to define a simple MLP with only one hidden layer. You can use ``torch.nn.Linear`` to define a single MLP layer and pick an activation layer you like. Since our inputs are images with $28\\times28$ pixels, the input dimension is $28\\times28=784$. The problem is a binary classification, thus, the output dimension is 2."
      ]
    },
    {
      "cell_type": "code",
      "execution_count": 6,
      "id": "0db945f5-97c2-4db0-84c6-939383b2ecd7",
      "metadata": {
        "colab": {
          "base_uri": "https://localhost:8080/"
        },
        "id": "0db945f5-97c2-4db0-84c6-939383b2ecd7",
        "outputId": "b8efa9d9-f3c2-4347-efe2-aba6e0f4c456"
      },
      "outputs": [
        {
          "output_type": "stream",
          "name": "stdout",
          "text": [
            "SimpleMLP(\n",
            "  (fc1): Linear(in_features=784, out_features=128, bias=True)\n",
            "  (activation): ReLU()\n",
            "  (fc2): Linear(in_features=128, out_features=2, bias=True)\n",
            ")\n"
          ]
        }
      ],
      "source": [
        "import torch.nn as nn\n",
        "\n",
        "# Define your MLP\n",
        "class SimpleMLP(nn.Module):\n",
        "    def __init__(self, in_dim, hidden_dim, out_dim):\n",
        "        super(SimpleMLP, self).__init__()\n",
        "        # Your code goes here\n",
        "        self.fc1 = nn.Linear(in_dim, hidden_dim)\n",
        "        self.activation = nn.ReLU()\n",
        "        self.fc2 = nn.Linear(hidden_dim,out_dim)\n",
        "\n",
        "    def forward(self, x):\n",
        "        # Your code goes here\n",
        "        return self.fc2(self.activation(self.fc1(x)))\n",
        "\n",
        "# Your code goes here\n",
        "hidden_dim = 64\n",
        "model = SimpleMLP(in_dim=28 * 28,\n",
        "                  hidden_dim=hidden_dim,\n",
        "                  out_dim=2)\n",
        "print(model)"
      ]
    },
    {
      "cell_type": "markdown",
      "id": "0f2c8553-0271-4868-aa38-662c3fffd403",
      "metadata": {
        "id": "0f2c8553-0271-4868-aa38-662c3fffd403"
      },
      "source": [
        "## Train the MLP\n",
        "To train the model, we need to define a loss function (criterion) and an optimizer. The loss function tells us how far away the model’s prediction is from the label. Once we have the loss, PyTorch can compute the gradient of the model automatically. The optimizer uses the gradient to update the model. For classification problems, we often use the Cross Entropy Loss. For the optimizer, we can use stochastic gradient descent optimizer or Adam optimizer:"
      ]
    },
    {
      "cell_type": "code",
      "execution_count": 7,
      "id": "9a7f6874-687e-4eed-ad45-c366511c7775",
      "metadata": {
        "id": "9a7f6874-687e-4eed-ad45-c366511c7775"
      },
      "outputs": [],
      "source": [
        "criterion = nn.CrossEntropyLoss()\n",
        "# You can play with different optimizers\n",
        "# optimizer = torch.optim.SGD(model.parameters(), lr=1e-2)\n",
        "optimizer = torch.optim.Adam(model.parameters(), lr=1e-3)"
      ]
    },
    {
      "cell_type": "markdown",
      "id": "3ce8587b-30cb-4939-860a-ad4094f4446e",
      "metadata": {
        "id": "3ce8587b-30cb-4939-860a-ad4094f4446e"
      },
      "source": [
        "There are several hyper-parameters in the optimizer (please see the [PyTorch document](https://pytorch.org/docs/stable/optim.html) for details). You can play with the hyper-parameters and see how they influence the training.\n",
        "\n",
        "Now we have almost everything to train the model. We provide a sample code to complete the training loops:"
      ]
    },
    {
      "cell_type": "code",
      "execution_count": 8,
      "id": "5c03f28f-29fe-46bc-9661-9a2870050d8e",
      "metadata": {
        "id": "5c03f28f-29fe-46bc-9661-9a2870050d8e"
      },
      "outputs": [],
      "source": [
        "num_epochs = 10\n",
        "for epoch in range(num_epochs):\n",
        "    for data, target in train_loader:\n",
        "        # free the gradient from the previous batch\n",
        "        optimizer.zero_grad()\n",
        "        # reshape the image into a vector\n",
        "        data = data.view(data.size(0), -1)\n",
        "        # model forward\n",
        "        output = model(data)\n",
        "        # compute the loss\n",
        "        loss = criterion(output, target)\n",
        "        # model backward\n",
        "        loss.backward()\n",
        "        # update the model paramters\n",
        "        optimizer.step()"
      ]
    },
    {
      "cell_type": "markdown",
      "id": "7a7bef23-b755-4510-b626-f08c83fc1cb4",
      "metadata": {
        "id": "7a7bef23-b755-4510-b626-f08c83fc1cb4"
      },
      "source": [
        "After the training, we can use the validation dataset to know the performance of our model on new samples:"
      ]
    },
    {
      "cell_type": "code",
      "execution_count": 9,
      "id": "8d596ea2-15c9-4be4-b38a-514c9ba102b9",
      "metadata": {
        "colab": {
          "base_uri": "https://localhost:8080/"
        },
        "id": "8d596ea2-15c9-4be4-b38a-514c9ba102b9",
        "outputId": "f5450adc-2d11-42c9-aaf4-762f38589225"
      },
      "outputs": [
        {
          "output_type": "stream",
          "name": "stdout",
          "text": [
            "Validation loss: 0.00, accuracy: 100.00%\n"
          ]
        }
      ],
      "source": [
        "val_loss = count = 0\n",
        "correct = total = 0\n",
        "for data, target in val_loader:\n",
        "    data = data.view(data.size(0), -1)\n",
        "    output = model(data)\n",
        "    val_loss += criterion(output, target).item()\n",
        "    count += 1\n",
        "    pred = output.argmax(dim=1)\n",
        "    correct += (pred == target).sum().item()\n",
        "    total += data.size(0)\n",
        "\n",
        "val_loss = val_loss / count\n",
        "val_acc = 100. * correct / total\n",
        "print(f'Validation loss: {val_loss:.2f}, accuracy: {val_acc:.2f}%')"
      ]
    },
    {
      "cell_type": "markdown",
      "id": "2d741576-15d4-4427-81b1-a6025a05e496",
      "metadata": {
        "id": "2d741576-15d4-4427-81b1-a6025a05e496"
      },
      "source": [
        "You can also perform validation after each epoch. But remember not to train (backward and update) on the validation dataset. Use the validation set to optimize performance. After you are done with this, report performance on the test set(You are encouraged not to use the test set for validation, i.e., use the test set only once after you are happy with the validation performance).\n",
        "\n",
        "<span style=\"color:red\">[YOUR TASK]</span>\n",
        "- Filter all samples representing digits \"0\" or \"1\" from the MNIST datasets.\n",
        "- Randomly split the training data into a training set (80\\% training samples) of a validation set (20% training samples).\n",
        "- Define an MLP with 1 hidden layer and train the MLP to classify the digits \"0\" vs \"1\".  Report your MLP design and training details (which optimizer, number of epochs, learning rate, etc.)\n",
        "- Keep other hyper-parameters the same, and train the model with different batch sizes: 2, 16, 128, 1024. Report the time cost, training, validation, and test set accuracy of your model\n",
        "\n",
        "\n",
        "In our implementations, we trained our network for 10 epochs in about 10 seconds on a laptop, getting a test accuracy of 99\\% %.\n",
        "\n",
        "One tip about the hidden layer size is to begin with a small number, say $16\\sim 64$. Some people find $$\\text{hidden size} = \\sqrt{\\text{input size}\\times \\text{output size}}$$ is a good choice in practice. If your model's training accuracy is too low, you can double the hidden layer size. However, if you find the training accuracy is high. Still, the validation accuracy is much lower, you may consider a smaller hidden layer size because your model has the risk of overfitting.\n"
      ]
    },
    {
      "cell_type": "code",
      "execution_count": 3,
      "id": "e1f96821-15f9-42d7-9499-8469a8fd1c54",
      "metadata": {
        "colab": {
          "base_uri": "https://localhost:8080/"
        },
        "id": "e1f96821-15f9-42d7-9499-8469a8fd1c54",
        "outputId": "340780b3-ea86-48cc-9d5b-cd67aa24119f"
      },
      "outputs": [
        {
          "output_type": "stream",
          "name": "stdout",
          "text": [
            "Batch size:2, Execute time:72.09481000900269, Train acc:99.94078168180023, Val acc:99.88156336360048, Test acc:99.8581560283688\n",
            "Batch size:16, Execute time:9.043106079101562, Train acc:99.97039084090012, Val acc:100.0, Test acc:99.95271867612293\n",
            "Batch size:128, Execute time:1.379343032836914, Train acc:99.94078168180023, Val acc:99.92104224240032, Test acc:99.90543735224587\n",
            "Batch size:1024, Execute time:0.6359059810638428, Train acc:99.8026056060008, Val acc:99.88156336360048, Test acc:99.90543735224587\n"
          ]
        }
      ],
      "source": [
        "# Your code goes here\n",
        "import torch\n",
        "import torch.nn as nn\n",
        "import time\n",
        "from torchvision import transforms, datasets\n",
        "from torch.utils.data import DataLoader\n",
        "\n",
        "# define the data pre-processing\n",
        "# convert the input to the range [-1, 1].\n",
        "transform = transforms.Compose(\n",
        "    [transforms.ToTensor(), transforms.Normalize(0.5, 0.5)]\n",
        "    )\n",
        "\n",
        "# Load the MNIST dataset\n",
        "# this command requires Internet to download the dataset\n",
        "mnist = datasets.MNIST(root='./data',\n",
        "                       train=True,\n",
        "                       download=True,\n",
        "                       transform=transform)\n",
        "mnist_test = datasets.MNIST(root='./data',\n",
        "                            train=False,\n",
        "                            download=True,\n",
        "                            transform=transform)\n",
        "\n",
        "# Define your MLP\n",
        "class SimpleMLP(nn.Module):\n",
        "    def __init__(self, in_dim, hidden_dim, out_dim):\n",
        "        super(SimpleMLP, self).__init__()\n",
        "        # Your code goes here\n",
        "        self.fc1 = nn.Linear(in_dim, hidden_dim)\n",
        "        self.activation = nn.ReLU()\n",
        "        self.fc2 = nn.Linear(hidden_dim,out_dim)\n",
        "\n",
        "    def forward(self, x):\n",
        "        # Your code goes here\n",
        "        return self.fc2(self.activation(self.fc1(x)))\n",
        "\n",
        "# Your code goes here\n",
        "hidden_dim = 64\n",
        "criterion = nn.CrossEntropyLoss()\n",
        "\n",
        "\n",
        "# Filter for digits 0 and 1\n",
        "train_data = [data for data in mnist if data[1] < 2]\n",
        "# Your code goes here\n",
        "test_data = [data for data in mnist_test if data[1] < 2]\n",
        "\n",
        "# Split training data into training and validation sets\n",
        "# Your code goes here\n",
        "split_index = int(0.8 * len(train_data))\n",
        "train_set = train_data[:split_index]\n",
        "val_set = train_data[split_index:]\n",
        "\n",
        "# Define DataLoaders to access data in batches\n",
        "batch_sizes = [2,16,128,1024]\n",
        "\n",
        "for batch_size in batch_sizes:\n",
        "  start = time.time()\n",
        "  train_loader = DataLoader(train_set, batch_size=batch_size, shuffle=True)\n",
        "  # Your code goes here\n",
        "  val_loader = DataLoader(val_set, batch_size=batch_size, shuffle=True)\n",
        "  test_loader = DataLoader(test_data, batch_size=batch_size, shuffle=False)\n",
        "  model = SimpleMLP(in_dim=28 * 28,\n",
        "                  hidden_dim=hidden_dim,\n",
        "                  out_dim=2)\n",
        "  optimizer = torch.optim.Adam(model.parameters(), lr=1e-3)\n",
        "  num_epochs = 10\n",
        "\n",
        "  train_correct = train_total = 0\n",
        "  for epoch in range(num_epochs):\n",
        "      for data, target in train_loader:\n",
        "          # free the gradient from the previous batch\n",
        "          optimizer.zero_grad()\n",
        "          # reshape the image into a vector\n",
        "          data = data.view(data.size(0), -1)\n",
        "          # model forward\n",
        "          output = model(data)\n",
        "          # compute the loss\n",
        "          loss = criterion(output, target)\n",
        "          # model backward\n",
        "          loss.backward()\n",
        "          # update the model paramters\n",
        "          optimizer.step()\n",
        "\n",
        "          if epoch == num_epochs - 1:\n",
        "            output = model(data)\n",
        "            pred = output.argmax(dim=1)\n",
        "            train_correct += (pred == target).sum().item()\n",
        "            train_total += data.size(0)\n",
        "\n",
        "\n",
        "  val_loss = val_count = 0\n",
        "  val_correct = val_total = 0\n",
        "  for data, target in val_loader:\n",
        "      data = data.view(data.size(0), -1)\n",
        "      output = model(data)\n",
        "      val_loss += criterion(output, target).item()\n",
        "      val_count += 1\n",
        "      pred = output.argmax(dim=1)\n",
        "      val_correct += (pred == target).sum().item()\n",
        "      val_total += data.size(0)\n",
        "\n",
        "  test_loss = test_count = 0\n",
        "  test_correct = test_total = 0\n",
        "\n",
        "  for data, target in test_loader:\n",
        "      data = data.view(data.size(0), -1)\n",
        "      output = model(data)\n",
        "      test_loss += criterion(output, target).item()\n",
        "      test_count += 1\n",
        "      pred = output.argmax(dim=1)\n",
        "      test_correct += (pred == target).sum().item()\n",
        "      test_total += data.size(0)\n",
        "\n",
        "  train_acc = 100. * train_correct / train_total\n",
        "  val_loss = val_loss / val_count\n",
        "  val_acc = 100. * val_correct / val_total\n",
        "  test_loss = test_loss / test_count\n",
        "  test_acc = 100. * test_correct / test_total\n",
        "  end = time.time()\n",
        "  print(f\"Batch size:{batch_size}, Execute time:{end-start}, Train acc:{train_acc}, Val acc:{val_acc}, Test acc:{test_acc}\")"
      ]
    },
    {
      "cell_type": "markdown",
      "id": "25a7fc30-cef1-4cfc-bbde-4de36737ea88",
      "metadata": {
        "id": "25a7fc30-cef1-4cfc-bbde-4de36737ea88"
      },
      "source": [
        "# Problem 2: MNIST 10-class classification\n",
        "\n",
        "Now we want to train an MLP to handle multi-class classification for all 10 digits in the MNIST dataset. We will use the full MNIST dataset without filtering for specific digits. You may modify the MLP so that it can be used for multi-class classification.\n",
        "\n",
        "<span style=\"color:red\">[YOUR TASK]</span>\n",
        "- Implement the training loop and evaluation section. Report the hyper-parameters you choose.\n",
        "- Experiment with different numbers of neurons in the hidden layer and note any changes in performance.\n",
        "- Write a brief analysis of the model's performance, including any challenges faced and how they were addressed.\n",
        "\n",
        "In our implementations, we trained our network for 10 epochs in about 20 seconds on a laptop.\n",
        "When you define a new model, remember to update the optimizer!\n",
        "\n"
      ]
    },
    {
      "cell_type": "code",
      "source": [
        "len(mnist[0])\n",
        "split_index = int(0.8 * len(mnist))\n",
        "print(split_index)\n",
        "print(type(mnist))"
      ],
      "metadata": {
        "colab": {
          "base_uri": "https://localhost:8080/"
        },
        "id": "KmcIea-0h2ib",
        "outputId": "90fae0be-40a5-4ebb-a9c3-378c8606e714"
      },
      "id": "KmcIea-0h2ib",
      "execution_count": 14,
      "outputs": [
        {
          "output_type": "stream",
          "name": "stdout",
          "text": [
            "48000\n",
            "<class 'torchvision.datasets.mnist.MNIST'>\n"
          ]
        }
      ]
    },
    {
      "cell_type": "code",
      "execution_count": 15,
      "id": "5f37802c-97df-490d-85c6-6a4d8fa69515",
      "metadata": {
        "colab": {
          "base_uri": "https://localhost:8080/"
        },
        "id": "5f37802c-97df-490d-85c6-6a4d8fa69515",
        "outputId": "3f1fd896-eb41-4e28-cc78-6bc07f38090f"
      },
      "outputs": [
        {
          "output_type": "stream",
          "name": "stdout",
          "text": [
            "Hidden size:32, Execute time:41.64535164833069, Train acc:95.225, Val acc:94.7, Test acc:94.95\n",
            "Hidden size:64, Execute time:48.128188133239746, Train acc:97.84791666666666, Val acc:95.925, Test acc:95.68\n",
            "Hidden size:128, Execute time:67.74480485916138, Train acc:98.52916666666667, Val acc:96.94166666666666, Test acc:96.89\n",
            "Hidden size:256, Execute time:103.99001908302307, Train acc:98.81458333333333, Val acc:96.96666666666667, Test acc:96.82\n"
          ]
        }
      ],
      "source": [
        "# Your code goes here\n",
        "import torch\n",
        "import torch.nn as nn\n",
        "import time\n",
        "from torchvision import transforms, datasets\n",
        "from torch.utils.data import DataLoader\n",
        "torch.manual_seed(0)\n",
        "\n",
        "# define the data pre-processing\n",
        "# convert the input to the range [-1, 1].\n",
        "transform = transforms.Compose(\n",
        "    [transforms.ToTensor(), transforms.Normalize(0.5, 0.5)]\n",
        "    )\n",
        "\n",
        "# Load the MNIST dataset\n",
        "# this command requires Internet to download the dataset\n",
        "mnist = datasets.MNIST(root='./data',\n",
        "                       train=True,\n",
        "                       download=True,\n",
        "                       transform=transform)\n",
        "mnist_test = datasets.MNIST(root='./data',\n",
        "                            train=False,\n",
        "                            download=True,\n",
        "                            transform=transform)\n",
        "# Split training data into training and validation sets\n",
        "# Your code goes here\n",
        "# Filter for digits 0 and 1\n",
        "train_data = [data for data in mnist]\n",
        "split_index = int(0.8 * len(train_data))\n",
        "train_set = train_data[:split_index]\n",
        "val_set = train_data[split_index:]\n",
        "test_set = mnist_test\n",
        "\n",
        "\n",
        "train_loader = DataLoader(train_set, batch_size=16, shuffle=True)\n",
        "val_loader = DataLoader(val_set, batch_size=16, shuffle=True)\n",
        "test_loader = DataLoader(test_set, batch_size=16, shuffle=False)\n",
        "\n",
        "\n",
        "\n",
        "\n",
        "# Define your MLP\n",
        "class SimpleMLP(nn.Module):\n",
        "    def __init__(self, in_dim, hidden_dim, out_dim):\n",
        "        super(SimpleMLP, self).__init__()\n",
        "        # Your code goes here\n",
        "        self.fc1 = nn.Linear(in_dim, hidden_dim)\n",
        "        self.activation = nn.ReLU()\n",
        "        self.fc2 = nn.Linear(hidden_dim,out_dim)\n",
        "\n",
        "    def forward(self, x):\n",
        "        # Your code goes here\n",
        "        return self.fc2(self.activation(self.fc1(x)))\n",
        "\n",
        "# Your code goes here\n",
        "hidden_dims = [32, 64, 128, 256]\n",
        "criterion = nn.CrossEntropyLoss()\n",
        "\n",
        "for hidden_dim in hidden_dims:\n",
        "  start = time.time()\n",
        "  model = SimpleMLP(in_dim=28 * 28,\n",
        "                  hidden_dim=hidden_dim,\n",
        "                  out_dim=10)\n",
        "  optimizer = torch.optim.Adam(model.parameters(), lr=1e-3)\n",
        "  num_epochs = 10\n",
        "\n",
        "  train_correct = train_total = 0\n",
        "  for epoch in range(num_epochs):\n",
        "      for data, target in train_loader:\n",
        "          # free the gradient from the previous batch\n",
        "          optimizer.zero_grad()\n",
        "          # reshape the image into a vector\n",
        "          data = data.view(data.size(0), -1)\n",
        "          # model forward\n",
        "          output = model(data)\n",
        "          # compute the loss\n",
        "          loss = criterion(output, target)\n",
        "          # model backward\n",
        "          loss.backward()\n",
        "          # update the model paramters\n",
        "          optimizer.step()\n",
        "\n",
        "          if epoch == num_epochs - 1:\n",
        "            output = model(data)\n",
        "            pred = output.argmax(dim=1)\n",
        "            train_correct += (pred == target).sum().item()\n",
        "            train_total += data.size(0)\n",
        "\n",
        "\n",
        "  val_loss = val_count = 0\n",
        "  val_correct = val_total = 0\n",
        "  for data, target in val_loader:\n",
        "      data = data.view(data.size(0), -1)\n",
        "      output = model(data)\n",
        "      val_loss += criterion(output, target).item()\n",
        "      val_count += 1\n",
        "      pred = output.argmax(dim=1)\n",
        "      val_correct += (pred == target).sum().item()\n",
        "      val_total += data.size(0)\n",
        "\n",
        "  test_loss = test_count = 0\n",
        "  test_correct = test_total = 0\n",
        "\n",
        "  for data, target in test_loader:\n",
        "      data = data.view(data.size(0), -1)\n",
        "      output = model(data)\n",
        "      test_loss += criterion(output, target).item()\n",
        "      test_count += 1\n",
        "      pred = output.argmax(dim=1)\n",
        "      test_correct += (pred == target).sum().item()\n",
        "      test_total += data.size(0)\n",
        "\n",
        "  train_acc = 100. * train_correct / train_total\n",
        "  val_loss = val_loss / val_count\n",
        "  val_acc = 100. * val_correct / val_total\n",
        "  test_loss = test_loss / test_count\n",
        "  test_acc = 100. * test_correct / test_total\n",
        "  end = time.time()\n",
        "  print(f\"Hidden size:{hidden_dim}, Execute time:{end-start}, Train acc:{train_acc}, Val acc:{val_acc}, Test acc:{test_acc}\")"
      ]
    },
    {
      "cell_type": "markdown",
      "id": "0c7de796-0049-4efe-9ea0-ce64a5e24c85",
      "metadata": {
        "id": "0c7de796-0049-4efe-9ea0-ce64a5e24c85"
      },
      "source": [
        "# Problem 3: Handling Class Imbalance in MNIST Dataset\n",
        "In this problem, we will explore how to handle class imbalance problems, which are very common in real-world applications. A modified MNIST dataset is created as follows: we choose all instances of digit “0”, and choose only 1\\% instances of digit “1” for both training and test sets:"
      ]
    },
    {
      "cell_type": "code",
      "execution_count": null,
      "id": "ef050b66-e17c-406b-8e79-c2a1416e2239",
      "metadata": {
        "id": "ef050b66-e17c-406b-8e79-c2a1416e2239"
      },
      "outputs": [],
      "source": [
        "# Filter for digits 0 and 1\n",
        "train_0 = [data for data in mnist if data[1] == 0]\n",
        "train_1 = [data for data in mnist if data[1] == 1]\n",
        "train_1 = train_1[:len(train_1) // 100]\n",
        "train_data = train_0 + train_1"
      ]
    },
    {
      "cell_type": "markdown",
      "id": "22857293-024a-4252-a3fb-2cb72cafe0e0",
      "metadata": {
        "id": "22857293-024a-4252-a3fb-2cb72cafe0e0"
      },
      "source": [
        "For such a class imbalance problem, accuracy may not be a good metric. Always predicting \"0\" regardless of the input can be 99\\% accurate. Instead, we use the $F_1$ score as the evaluation metric:\n",
        "$$F_1 = 2\\cdot\\frac{\\text{precision}\\cdot \\text{recall}}{\\text{precision} + \\text{recall}}$$\n",
        "where precision and recall are defined as:\n",
        "$$\\text{precision}=\\frac{\\text{number of instances correctly predicted as \"1\"}}{\\text{number of instances predicted as \"1\"}}$$\n",
        "$$\\text{recall}=\\frac{\\text{number of instances correctly predicted as \"1\"}}{\\text{number of instances labeled as \"1\"}}$$\n",
        "\n",
        "To handle such a problem, some changes to the training may be necessary. Some suggestions include:\n",
        "1) Adjusting the class weights in the loss function, i.e., use a larger weight for the minority class when computing the loss.\n",
        "2) Implementing resampling techniques (either undersampling the majority class or oversampling the minority class).\n",
        "\n",
        "<span style=\"color:red\">[YOUR TASK]</span>\n",
        "- Create the imbalance datasets with all \"0\" digits and only 1\\% \"1\" digits.\n",
        "- Implement the training loop and evaluation section (implementing the $F_1$ metric).\n",
        "- Ignore the class imbalance problem and train the MLP. Report your hyper-parameter details and the $F_1$ score performance on the test set (as the baseline).\n",
        "- Explore modifications to improve the performance of the class imbalance problem. Report your modifications and the $F_1$ scores performance on the test set."
      ]
    },
    {
      "cell_type": "code",
      "execution_count": 24,
      "id": "daf6df17-48b9-4617-b12d-1d37865a5174",
      "metadata": {
        "colab": {
          "base_uri": "https://localhost:8080/"
        },
        "id": "daf6df17-48b9-4617-b12d-1d37865a5174",
        "outputId": "2dca850b-98c1-4d59-80d4-746d5a64869c"
      },
      "outputs": [
        {
          "output_type": "stream",
          "name": "stdout",
          "text": [
            "Train acc:100.0, Train F1 score: 1.0, Test acc:99.43262411347517, F1 score:0.9946855624446412\n"
          ]
        }
      ],
      "source": [
        "# Your code goes here\n",
        "import torch\n",
        "import torch.nn as nn\n",
        "import time\n",
        "from torchvision import transforms, datasets\n",
        "from torch.utils.data import DataLoader\n",
        "torch.manual_seed(0)\n",
        "\n",
        "def calculate_f1_score(TP, FP, FN):\n",
        "    precision = TP / (TP + FP) if (TP + FP) > 0 else 0\n",
        "    recall = TP / (TP + FN) if (TP + FN) > 0 else 0\n",
        "    f1 = 2 * precision * recall / (precision + recall) if (precision + recall) > 0 else 0\n",
        "    return f1\n",
        "\n",
        "\n",
        "# define the data pre-processing\n",
        "# convert the input to the range [-1, 1].\n",
        "transform = transforms.Compose(\n",
        "    [transforms.ToTensor(), transforms.Normalize(0.5, 0.5)]\n",
        "    )\n",
        "\n",
        "# Load the MNIST dataset\n",
        "# this command requires Internet to download the dataset\n",
        "mnist = datasets.MNIST(root='./data',\n",
        "                       train=True,\n",
        "                       download=True,\n",
        "                       transform=transform)\n",
        "mnist_test = datasets.MNIST(root='./data',\n",
        "                            train=False,\n",
        "                            download=True,\n",
        "                            transform=transform)\n",
        "# Split training data into training and validation sets\n",
        "# Your code goes here\n",
        "train_0 = [data for data in mnist if data[1] == 0]\n",
        "train_1 = [data for data in mnist if data[1] == 1]\n",
        "train_1 = train_1[:len(train_1) // 100]\n",
        "train_data = train_0 + train_1\n",
        "# Your code goes here\n",
        "test_data = [data for data in mnist_test if data[1] < 2]\n",
        "\n",
        "\n",
        "train_loader = DataLoader(train_data, batch_size=16, shuffle=True)\n",
        "test_loader = DataLoader(test_data, batch_size=16, shuffle=False)\n",
        "\n",
        "\n",
        "\n",
        "# Define your MLP\n",
        "class SimpleMLP(nn.Module):\n",
        "    def __init__(self, in_dim, hidden_dim, out_dim):\n",
        "        super(SimpleMLP, self).__init__()\n",
        "        self.fc1 = nn.Linear(in_dim, hidden_dim)\n",
        "        self.activation = nn.ReLU()\n",
        "        self.fc2 = nn.Linear(hidden_dim,out_dim)\n",
        "\n",
        "    def forward(self, x):\n",
        "        return self.fc2(self.activation(self.fc1(x)))\n",
        "\n",
        "criterion = nn.CrossEntropyLoss()\n",
        "hidden_dim = 128\n",
        "\n",
        "model = SimpleMLP(in_dim=28 * 28,\n",
        "                hidden_dim=hidden_dim,\n",
        "                out_dim=2)\n",
        "optimizer = torch.optim.Adam(model.parameters(), lr=1e-3)\n",
        "num_epochs = 10\n",
        "\n",
        "train_correct = train_total = 0\n",
        "TP, FP, FN = 0, 0, 0\n",
        "for epoch in range(num_epochs):\n",
        "    for data, target in train_loader:\n",
        "        # free the gradient from the previous batch\n",
        "        optimizer.zero_grad()\n",
        "        # reshape the image into a vector\n",
        "        data = data.view(data.size(0), -1)\n",
        "        # model forward\n",
        "        output = model(data)\n",
        "        # compute the loss\n",
        "        loss = criterion(output, target)\n",
        "        # model backward\n",
        "        loss.backward()\n",
        "        # update the model paramters\n",
        "        optimizer.step()\n",
        "\n",
        "        if epoch == num_epochs - 1:\n",
        "          output = model(data)\n",
        "          pred = output.argmax(dim=1)\n",
        "          train_correct += (pred == target).sum().item()\n",
        "          train_total += data.size(0)\n",
        "          TP += ((pred == 1) & (target == 1)).sum().item()\n",
        "          FP += ((pred == 1) & (target == 0)).sum().item()\n",
        "          FN += ((pred == 0) & (target == 1)).sum().item()\n",
        "train_f1_score = calculate_f1_score(TP, FP, FN)\n",
        "test_loss = test_count = 0\n",
        "test_correct = test_total = 0\n",
        "\n",
        "TP, FP, FN = 0, 0, 0\n",
        "\n",
        "for data, target in test_loader:\n",
        "    data = data.view(data.size(0), -1)\n",
        "    output = model(data)\n",
        "    test_loss += criterion(output, target).item()\n",
        "    test_count += 1\n",
        "    pred = output.argmax(dim=1)\n",
        "    test_correct += (pred == target).sum().item()\n",
        "    test_total += data.size(0)\n",
        "    TP += ((pred == 1) & (target == 1)).sum().item()\n",
        "    FP += ((pred == 1) & (target == 0)).sum().item()\n",
        "    FN += ((pred == 0) & (target == 1)).sum().item()\n",
        "\n",
        "train_acc = 100. * train_correct / train_total\n",
        "test_loss = test_loss / test_count\n",
        "test_acc = 100. * test_correct / test_total\n",
        "f1_score = calculate_f1_score(TP, FP, FN)\n",
        "print(f\"Train acc:{train_acc}, Train F1 score: {train_f1_score}, Test acc:{test_acc}, F1 score:{f1_score}\")"
      ]
    },
    {
      "cell_type": "code",
      "source": [
        "from torch.utils.data import WeightedRandomSampler\n",
        "\n",
        "class_weights = torch.tensor([1.0, 100.0])\n",
        "# if torch.cuda.is_available():\n",
        "#     class_weights = class_weights.cuda()\n",
        "criterion = nn.CrossEntropyLoss(weight=class_weights)\n",
        "\n",
        "train_0 = [data for data in mnist if data[1] == 0]\n",
        "train_1 = [data for data in mnist if data[1] == 1]\n",
        "train_1 = train_1[:len(train_1) // 100]\n",
        "train_data = train_0 + train_1\n",
        "test_data = [data for data in mnist_test if data[1] < 2]\n",
        "\n",
        "# Calculate weights for each sample\n",
        "sample_weights = [100 if label == 1 else 1 for data, label in train_data]  # Oversample class \"1\"\n",
        "sampler = WeightedRandomSampler(sample_weights, len(sample_weights))\n",
        "\n",
        "train_loader = DataLoader(train_data, batch_size=16, sampler=sampler)\n",
        "test_loader = DataLoader(test_data, batch_size=16, shuffle=False)\n",
        "\n",
        "hidden_dim = 128\n",
        "\n",
        "model = SimpleMLP(in_dim=28 * 28,\n",
        "                hidden_dim=hidden_dim,\n",
        "                out_dim=2)\n",
        "optimizer = torch.optim.Adam(model.parameters(), lr=1e-3)\n",
        "num_epochs = 10\n",
        "\n",
        "train_correct = train_total = 0\n",
        "TP, FP, FN = 0, 0, 0\n",
        "for epoch in range(num_epochs):\n",
        "    for data, target in train_loader:\n",
        "        # free the gradient from the previous batch\n",
        "        optimizer.zero_grad()\n",
        "        # reshape the image into a vector\n",
        "        data = data.view(data.size(0), -1)\n",
        "        # model forward\n",
        "        output = model(data)\n",
        "        # compute the loss\n",
        "        loss = criterion(output, target)\n",
        "        # model backward\n",
        "        loss.backward()\n",
        "        # update the model paramters\n",
        "        optimizer.step()\n",
        "\n",
        "        if epoch == num_epochs - 1:\n",
        "          output = model(data)\n",
        "          pred = output.argmax(dim=1)\n",
        "          train_correct += (pred == target).sum().item()\n",
        "          train_total += data.size(0)\n",
        "          TP += ((pred == 1) & (target == 1)).sum().item()\n",
        "          FP += ((pred == 1) & (target == 0)).sum().item()\n",
        "          FN += ((pred == 0) & (target == 1)).sum().item()\n",
        "train_f1_score = calculate_f1_score(TP, FP, FN)\n",
        "test_loss = test_count = 0\n",
        "test_correct = test_total = 0\n",
        "\n",
        "TP, FP, FN = 0, 0, 0\n",
        "\n",
        "for data, target in test_loader:\n",
        "    data = data.view(data.size(0), -1)\n",
        "    output = model(data)\n",
        "    test_loss += criterion(output, target).item()\n",
        "    test_count += 1\n",
        "    pred = output.argmax(dim=1)\n",
        "    test_correct += (pred == target).sum().item()\n",
        "    test_total += data.size(0)\n",
        "    TP += ((pred == 1) & (target == 1)).sum().item()\n",
        "    FP += ((pred == 1) & (target == 0)).sum().item()\n",
        "    FN += ((pred == 0) & (target == 1)).sum().item()\n",
        "\n",
        "train_acc = 100. * train_correct / train_total\n",
        "test_loss = test_loss / test_count\n",
        "test_acc = 100. * test_correct / test_total\n",
        "f1_score = calculate_f1_score(TP, FP, FN)\n",
        "print(f\"Train acc:{train_acc}, Train F1 score: {train_f1_score}, Test acc:{test_acc}, F1 score:{f1_score}\")\n",
        "\n"
      ],
      "metadata": {
        "colab": {
          "base_uri": "https://localhost:8080/"
        },
        "id": "1_v4OM8NpPxI",
        "outputId": "a120e9e2-f05a-4eda-c21f-e2ade72eb18f"
      },
      "id": "1_v4OM8NpPxI",
      "execution_count": 25,
      "outputs": [
        {
          "output_type": "stream",
          "name": "stdout",
          "text": [
            "Train acc:100.0, Train F1 score: 1.0, Test acc:99.95271867612293, F1 score:0.999559277214632\n"
          ]
        }
      ]
    },
    {
      "cell_type": "markdown",
      "id": "f8fd07a3-e41b-4650-b4ae-ed4e2ff6c99d",
      "metadata": {
        "id": "f8fd07a3-e41b-4650-b4ae-ed4e2ff6c99d"
      },
      "source": [
        "<span style=\"color:red\">[EXTRA BONUS]</span>\n",
        "\n",
        "If the hyper-parameters are chosen properly, the baseline can perform satisfactorily on the class imbalance problem with 1% digit \"1\". We want to challenge the baseline and handle more class-imbalanced datasets."
      ]
    },
    {
      "cell_type": "code",
      "execution_count": 3,
      "id": "1b8e4a01-36aa-4fd2-9ec2-cb88db566772",
      "metadata": {
        "colab": {
          "base_uri": "https://localhost:8080/"
        },
        "id": "1b8e4a01-36aa-4fd2-9ec2-cb88db566772",
        "outputId": "cc8e7d90-df6b-4ac2-dbb6-3007d3f990be"
      },
      "outputs": [
        {
          "output_type": "stream",
          "name": "stdout",
          "text": [
            "6742\n",
            "6\n"
          ]
        }
      ],
      "source": [
        "import random\n",
        "N = 1000\n",
        "# generate a class-imbalanced dataset controlled by \"N\"\n",
        "train_0 = [data for data in mnist if data[1] == 0]\n",
        "train_1 = [data for data in mnist if data[1] == 1]\n",
        "random.shuffle(train_1)\n",
        "train_1 = train_1[:len(train_1) // N]\n",
        "train_data = train_0 + train_1"
      ]
    },
    {
      "cell_type": "markdown",
      "id": "37d0b82a-def4-45d0-9350-d79f00bfb671",
      "metadata": {
        "id": "37d0b82a-def4-45d0-9350-d79f00bfb671"
      },
      "source": [
        "Can you propose new ways for the class imbalance problem and achieve stable and satisfactory performance for large $N = 500, \\; 1000, \\; \\cdots$?"
      ]
    },
    {
      "cell_type": "code",
      "execution_count": 11,
      "id": "47fb7f41-2e28-4935-a9cd-124e4963fa3d",
      "metadata": {
        "colab": {
          "base_uri": "https://localhost:8080/"
        },
        "id": "47fb7f41-2e28-4935-a9cd-124e4963fa3d",
        "outputId": "166880b7-24e2-4d6d-d70d-e5fda3fac316"
      },
      "outputs": [
        {
          "output_type": "stream",
          "name": "stdout",
          "text": [
            "N:500, Train acc:100.0, Train F1 score: 1.0, Test acc:99.33806146572104, F1 score:0.9938704028021016\n",
            "N:1000, Train acc:100.0, Train F1 score: 1.0, Test acc:99.14893617021276, F1 score:0.9920141969831411\n",
            "N:1500, Train acc:100.0, Train F1 score: 1.0, Test acc:99.19621749408984, F1 score:0.9924611973392462\n",
            "N:2000, Train acc:100.0, Train F1 score: 1.0, Test acc:99.14893617021276, F1 score:0.9920141969831411\n",
            "N:2500, Train acc:100.0, Train F1 score: 1.0, Test acc:99.62174940898345, F1 score:0.9964664310954064\n",
            "N:3000, Train acc:100.0, Train F1 score: 1.0, Test acc:99.29078014184397, F1 score:0.9933481152993348\n"
          ]
        }
      ],
      "source": [
        "# Your code goes here\n",
        "import torch\n",
        "import torch.nn as nn\n",
        "import time\n",
        "import random\n",
        "from torchvision import transforms, datasets\n",
        "from torch.utils.data import DataLoader, WeightedRandomSampler\n",
        "torch.manual_seed(0)\n",
        "random.seed(0)\n",
        "\n",
        "def calculate_f1_score(TP, FP, FN):\n",
        "    precision = TP / (TP + FP) if (TP + FP) > 0 else 0\n",
        "    recall = TP / (TP + FN) if (TP + FN) > 0 else 0\n",
        "    f1 = 2 * precision * recall / (precision + recall) if (precision + recall) > 0 else 0\n",
        "    return f1\n",
        "\n",
        "# define the data pre-processing\n",
        "# convert the input to the range [-1, 1].\n",
        "transform = transforms.Compose(\n",
        "    [transforms.ToTensor(), transforms.Normalize(0.5, 0.5)]\n",
        "    )\n",
        "\n",
        "# Load the MNIST dataset\n",
        "# this command requires Internet to download the dataset\n",
        "mnist = datasets.MNIST(root='./data',\n",
        "                       train=True,\n",
        "                       download=True,\n",
        "                       transform=transform)\n",
        "mnist_test = datasets.MNIST(root='./data',\n",
        "                            train=False,\n",
        "                            download=True,\n",
        "                            transform=transform)\n",
        "train_0 = [data for data in mnist if data[1] == 0]\n",
        "train_1 = [data for data in mnist if data[1] == 1]\n",
        "random.shuffle(train_1)\n",
        "\n",
        "# Define your MLP\n",
        "class SimpleMLP(nn.Module):\n",
        "    def __init__(self, in_dim, hidden_dim, out_dim):\n",
        "        super(SimpleMLP, self).__init__()\n",
        "        self.fc1 = nn.Linear(in_dim, hidden_dim)\n",
        "        self.activation = nn.ReLU()\n",
        "        self.fc2 = nn.Linear(hidden_dim,out_dim)\n",
        "\n",
        "    def forward(self, x):\n",
        "        return self.fc2(self.activation(self.fc1(x)))\n",
        "\n",
        "class_weights = torch.tensor([1.0, 50.0])\n",
        "criterion = nn.CrossEntropyLoss(weight=class_weights)\n",
        "hidden_dim = 128\n",
        "\n",
        "model = SimpleMLP(in_dim=28 * 28,\n",
        "                hidden_dim=hidden_dim,\n",
        "                out_dim=2)\n",
        "optimizer = torch.optim.Adam(model.parameters(), lr=1e-3)\n",
        "num_epochs = 10\n",
        "num_more_epochs = 1\n",
        "\n",
        "for N in [500,1000,1500,2000,2500,3000]:\n",
        "  # Split training data into training and validation sets\n",
        "  # Your code goes here\n",
        "  train_small_1 = train_1[:len(train_1) // N]\n",
        "\n",
        "  transform = transforms.Compose([\n",
        "      transforms.RandomRotation(30),\n",
        "      transforms.RandomHorizontalFlip(),\n",
        "  ])\n",
        "  train_1_augmented = [(transform(x[0]), x[1]) for x in train_small_1]\n",
        "\n",
        "  train_data = train_0 + train_small_1\n",
        "  # Your code goes here\n",
        "  test_data = [data for data in mnist_test if data[1] < 2]\n",
        "  sample_weights = [100 if label == 1 else 1 for data, label in train_data]  # Oversample class \"1\"\n",
        "  sampler = WeightedRandomSampler(sample_weights, len(sample_weights))\n",
        "  train_loader = DataLoader(train_data, batch_size=16, sampler=sampler)\n",
        "  train_label1_loader = DataLoader(train_1_augmented, batch_size=16, shuffle=True)\n",
        "  test_loader = DataLoader(test_data, batch_size=16, shuffle=False)\n",
        "\n",
        "\n",
        "  train_correct = train_total = 0\n",
        "  TP, FP, FN = 0, 0, 0\n",
        "  for epoch in range(num_epochs):\n",
        "      for data, target in train_loader:\n",
        "          # free the gradient from the previous batch\n",
        "          optimizer.zero_grad()\n",
        "          # reshape the image into a vector\n",
        "          data = data.view(data.size(0), -1)\n",
        "          # model forward\n",
        "          output = model(data)\n",
        "          # compute the loss\n",
        "          loss = criterion(output, target)\n",
        "          # model backward\n",
        "          loss.backward()\n",
        "          # update the model paramters\n",
        "          optimizer.step()\n",
        "\n",
        "          # if epoch == num_epochs - 1:\n",
        "          #   output = model(data)\n",
        "          #   pred = output.argmax(dim=1)\n",
        "          #   train_correct += (pred == target).sum().item()\n",
        "          #   train_total += data.size(0)\n",
        "          #   TP += ((pred == 1) & (target == 1)).sum().item()\n",
        "          #   FP += ((pred == 1) & (target == 0)).sum().item()\n",
        "          #   FN += ((pred == 0) & (target == 1)).sum().item()\n",
        "  for epoch in range(num_more_epochs):\n",
        "      for data, target in train_label1_loader:\n",
        "          # free the gradient from the previous batch\n",
        "          optimizer.zero_grad()\n",
        "          # reshape the image into a vector\n",
        "          data = data.view(data.size(0), -1)\n",
        "          # model forward\n",
        "          output = model(data)\n",
        "          # compute the loss\n",
        "          loss = criterion(output, target)\n",
        "          # model backward\n",
        "          loss.backward()\n",
        "          # update the model paramters\n",
        "          optimizer.step()\n",
        "\n",
        "          if epoch == num_more_epochs - 1:\n",
        "            output = model(data)\n",
        "            pred = output.argmax(dim=1)\n",
        "            train_correct += (pred == target).sum().item()\n",
        "            train_total += data.size(0)\n",
        "            TP += ((pred == 1) & (target == 1)).sum().item()\n",
        "            FP += ((pred == 1) & (target == 0)).sum().item()\n",
        "            FN += ((pred == 0) & (target == 1)).sum().item()\n",
        "  train_f1_score = calculate_f1_score(TP, FP, FN)\n",
        "  test_loss = test_count = 0\n",
        "  test_correct = test_total = 0\n",
        "\n",
        "  TP, FP, FN = 0, 0, 0\n",
        "\n",
        "  for data, target in test_loader:\n",
        "      data = data.view(data.size(0), -1)\n",
        "      output = model(data)\n",
        "      test_loss += criterion(output, target).item()\n",
        "      test_count += 1\n",
        "      pred = output.argmax(dim=1)\n",
        "      test_correct += (pred == target).sum().item()\n",
        "      test_total += data.size(0)\n",
        "      TP += ((pred == 1) & (target == 1)).sum().item()\n",
        "      FP += ((pred == 1) & (target == 0)).sum().item()\n",
        "      FN += ((pred == 0) & (target == 1)).sum().item()\n",
        "\n",
        "  train_acc = 100. * train_correct / train_total\n",
        "  test_loss = test_loss / test_count\n",
        "  test_acc = 100. * test_correct / test_total\n",
        "  f1_score = calculate_f1_score(TP, FP, FN)\n",
        "  print(f\"N:{N}, Train acc:{train_acc}, Train F1 score: {train_f1_score}, Test acc:{test_acc}, F1 score:{f1_score}\")"
      ]
    },
    {
      "cell_type": "markdown",
      "id": "e63ed5bf-680c-4548-9e47-e5c17316d891",
      "metadata": {
        "id": "e63ed5bf-680c-4548-9e47-e5c17316d891"
      },
      "source": [
        "# Problem 4: Reconstruct the MNIST images by Regression\n",
        "In this problem, we want to train the MLP (with only one hidden layer) to complete a regression task: reconstruct the input image. The goal of this task is dimension reduction, and we set the hidden layer dimension to a smaller number, say 50. Once we can train the MLP to reconstruct the input images perfectly, we find an lower dimension representation of the MNIST images.\n",
        "\n",
        "Since this is a reconstruction task, the labels of the images are not needed, and the target is the same as the inputs. Mean Squared Error (MSE) is recommended as the loss function:"
      ]
    },
    {
      "cell_type": "code",
      "execution_count": null,
      "id": "e0e5bf64-c614-4ba1-bf3a-2025232a2637",
      "metadata": {
        "id": "e0e5bf64-c614-4ba1-bf3a-2025232a2637"
      },
      "outputs": [],
      "source": [
        "criterion = nn.MSELoss()"
      ]
    },
    {
      "cell_type": "markdown",
      "id": "fa4c03c6-9b4a-4bc8-86b3-efe72b9db558",
      "metadata": {
        "id": "fa4c03c6-9b4a-4bc8-86b3-efe72b9db558"
      },
      "source": [
        "Another tip is to add a `torch.nn.Tanh()` activation layer to the end of the model. Recall that our data pre-processing converts the data into the range $[-1, 1]$:"
      ]
    },
    {
      "cell_type": "code",
      "execution_count": null,
      "id": "8a8cc1aa-cd69-4716-a8a5-ae7ba5a441f6",
      "metadata": {
        "id": "8a8cc1aa-cd69-4716-a8a5-ae7ba5a441f6"
      },
      "outputs": [],
      "source": [
        "# define the data pre-processing\n",
        "# convert the input to the range [-1, 1].\n",
        "transform = transforms.Compose(\n",
        "    [transforms.ToTensor(), transforms.Normalize(0.5, 0.5)]\n",
        "    )"
      ]
    },
    {
      "cell_type": "markdown",
      "id": "a8db3945-7dc5-484b-b6f2-402b0f5a2c1a",
      "metadata": {
        "id": "a8db3945-7dc5-484b-b6f2-402b0f5a2c1a"
      },
      "source": [
        "Having a `torch.nn.Tanh()` activation layer at the end of the model can convert the output of the model into the range $[-1, 1]$, making the training easier.\n",
        "\n",
        "<span style=\"color:red\">[YOUR TASK]</span>\n",
        "- Define an MLP with only one hidden layer and set the hidden layer dimension as 50. Train the MLP to reconstruct input images from all 10 digits.\n",
        "- Report the Mean Squared Error on the training, validation and test set. Report your hyper-parameter details.\n",
        "- Pick 5 images for each digit from the test set. Visualize the original images and the reconstructed images using the MLP."
      ]
    },
    {
      "cell_type": "code",
      "execution_count": 12,
      "id": "0eb902a8-e07a-421e-80db-12a4d33c1c7f",
      "metadata": {
        "id": "0eb902a8-e07a-421e-80db-12a4d33c1c7f"
      },
      "outputs": [],
      "source": [
        "import torch\n",
        "import torch.nn as nn\n",
        "import torch.optim as optim\n",
        "from torchvision import datasets, transforms\n",
        "from torch.utils.data import DataLoader\n",
        "import matplotlib.pyplot as plt\n",
        "import random\n",
        "random.seed(0)\n",
        "torch.manual_seed(0)\n",
        "\n",
        "\n",
        "class SimpleMLP(nn.Module):\n",
        "    def __init__(self, in_dim, hidden_dim, out_dim):\n",
        "        super(SimpleMLP, self).__init__()\n",
        "        self.fc1 = nn.Linear(in_dim, hidden_dim)\n",
        "        self.tanh = nn.Tanh()\n",
        "        self.fc2 = nn.Linear(hidden_dim, out_dim)\n",
        "\n",
        "    def forward(self, x):\n",
        "        x = self.fc1(x)\n",
        "        x = self.tanh(x)\n",
        "        x = self.fc2(x)\n",
        "        x = self.tanh(x)\n",
        "        return x\n",
        "\n",
        "# Set the size of the input and the hidden layer\n",
        "input_size = 784\n",
        "hidden_size = 50\n",
        "output_size = input_size  # Output size is the same as input for reconstruction\n"
      ]
    },
    {
      "cell_type": "code",
      "source": [
        "# define the data pre-processing\n",
        "# convert the input to the range [-1, 1].\n",
        "transform = transforms.Compose(\n",
        "    [transforms.ToTensor(), transforms.Normalize(0.5, 0.5)]\n",
        "    )\n",
        "\n",
        "# Load the MNIST dataset\n",
        "# this command requires Internet to download the dataset\n",
        "mnist = datasets.MNIST(root='./data',\n",
        "                       train=True,\n",
        "                       download=True,\n",
        "                       transform=transform)\n",
        "mnist_test = datasets.MNIST(root='./data',\n",
        "                            train=False,\n",
        "                            download=True,\n",
        "                            transform=transform)\n",
        "# Split training data into training and validation sets\n",
        "train_data = [data for data in mnist]\n",
        "split_index = int(0.8 * len(train_data))\n",
        "train_set = train_data[:split_index]\n",
        "val_set = train_data[split_index:]\n",
        "test_set = mnist_test\n",
        "\n",
        "# Data loaders\n",
        "batch_size = 64\n",
        "train_loader = DataLoader(train_set, batch_size=64, shuffle=True)\n",
        "val_loader = DataLoader(val_set, batch_size=64, shuffle=False)\n",
        "test_loader = DataLoader(test_set, batch_size=64, shuffle=False)\n"
      ],
      "metadata": {
        "id": "NYtQC7JtLWhG"
      },
      "id": "NYtQC7JtLWhG",
      "execution_count": 5,
      "outputs": []
    },
    {
      "cell_type": "code",
      "execution_count": 13,
      "id": "c4e3a88e-e3b2-4c82-bf42-ab789c452b7c",
      "metadata": {
        "colab": {
          "base_uri": "https://localhost:8080/"
        },
        "id": "c4e3a88e-e3b2-4c82-bf42-ab789c452b7c",
        "outputId": "b856d1a2-f90b-48e3-9012-a7eaa836f610"
      },
      "outputs": [
        {
          "output_type": "stream",
          "name": "stdout",
          "text": [
            "Epoch [1/40], Loss: 0.2534, Val Loss: 0.2564\n",
            "Epoch [2/40], Loss: 0.2062, Val Loss: 0.1968\n",
            "Epoch [3/40], Loss: 0.1567, Val Loss: 0.1576\n",
            "Epoch [4/40], Loss: 0.1356, Val Loss: 0.1324\n",
            "Epoch [5/40], Loss: 0.1243, Val Loss: 0.1140\n",
            "Epoch [6/40], Loss: 0.0978, Val Loss: 0.1003\n",
            "Epoch [7/40], Loss: 0.0848, Val Loss: 0.0899\n",
            "Epoch [8/40], Loss: 0.0844, Val Loss: 0.0819\n",
            "Epoch [9/40], Loss: 0.0628, Val Loss: 0.0750\n",
            "Epoch [10/40], Loss: 0.0703, Val Loss: 0.0693\n",
            "Epoch [11/40], Loss: 0.0654, Val Loss: 0.0644\n",
            "Epoch [12/40], Loss: 0.0551, Val Loss: 0.0603\n",
            "Epoch [13/40], Loss: 0.0608, Val Loss: 0.0568\n",
            "Epoch [14/40], Loss: 0.0530, Val Loss: 0.0538\n",
            "Epoch [15/40], Loss: 0.0487, Val Loss: 0.0513\n",
            "Epoch [16/40], Loss: 0.0473, Val Loss: 0.0491\n",
            "Epoch [17/40], Loss: 0.0465, Val Loss: 0.0473\n",
            "Epoch [18/40], Loss: 0.0444, Val Loss: 0.0457\n",
            "Epoch [19/40], Loss: 0.0471, Val Loss: 0.0444\n",
            "Epoch [20/40], Loss: 0.0437, Val Loss: 0.0431\n",
            "Epoch [21/40], Loss: 0.0431, Val Loss: 0.0420\n",
            "Epoch [22/40], Loss: 0.0409, Val Loss: 0.0410\n",
            "Epoch [23/40], Loss: 0.0401, Val Loss: 0.0401\n",
            "Epoch [24/40], Loss: 0.0382, Val Loss: 0.0393\n",
            "Epoch [25/40], Loss: 0.0381, Val Loss: 0.0384\n",
            "Epoch [26/40], Loss: 0.0376, Val Loss: 0.0377\n",
            "Epoch [27/40], Loss: 0.0335, Val Loss: 0.0369\n",
            "Epoch [28/40], Loss: 0.0394, Val Loss: 0.0363\n",
            "Epoch [29/40], Loss: 0.0368, Val Loss: 0.0356\n",
            "Epoch [30/40], Loss: 0.0352, Val Loss: 0.0350\n",
            "Epoch [31/40], Loss: 0.0349, Val Loss: 0.0344\n",
            "Epoch [32/40], Loss: 0.0350, Val Loss: 0.0338\n",
            "Epoch [33/40], Loss: 0.0311, Val Loss: 0.0334\n",
            "Epoch [34/40], Loss: 0.0300, Val Loss: 0.0330\n",
            "Epoch [35/40], Loss: 0.0318, Val Loss: 0.0325\n",
            "Epoch [36/40], Loss: 0.0346, Val Loss: 0.0322\n",
            "Epoch [37/40], Loss: 0.0332, Val Loss: 0.0318\n",
            "Epoch [38/40], Loss: 0.0328, Val Loss: 0.0315\n",
            "Epoch [39/40], Loss: 0.0315, Val Loss: 0.0312\n",
            "Epoch [40/40], Loss: 0.0287, Val Loss: 0.0310\n",
            "Test Loss: 0.0297\n"
          ]
        }
      ],
      "source": [
        "# Create the model\n",
        "model = SimpleMLP(in_dim=input_size,\n",
        "                hidden_dim=hidden_size,\n",
        "                out_dim=output_size)\n",
        "\n",
        "# Loss function and optimizer\n",
        "criterion = nn.MSELoss()\n",
        "optimizer = optim.Adam(model.parameters(), lr=1e-4)\n",
        "\n",
        "\n",
        "\n",
        "num_epochs = 40\n",
        "for epoch in range(num_epochs):\n",
        "    for data, _ in train_loader:\n",
        "        # free the gradient from the previous batch\n",
        "        optimizer.zero_grad()\n",
        "        # reshape the image into a vector\n",
        "        data = data.view(data.size(0), -1)\n",
        "        # model forward\n",
        "        output = model(data)\n",
        "        # compute the loss\n",
        "        loss = criterion(output, data)\n",
        "        # model backward\n",
        "        loss.backward()\n",
        "        # update the model paramters\n",
        "        optimizer.step()\n",
        "    # Validation\n",
        "    val_loss = 0\n",
        "    with torch.no_grad():\n",
        "        for data, _ in val_loader:\n",
        "            data = data.view(data.size(0), -1)\n",
        "            output = model(data)\n",
        "            val_loss += criterion(output, data).item()\n",
        "\n",
        "    print(f'Epoch [{epoch+1}/{num_epochs}], Loss: {loss.item():.4f}, Val Loss: {val_loss/len(val_loader):.4f}')\n",
        "\n",
        "# Test\n",
        "test_loss = 0\n",
        "with torch.no_grad():\n",
        "    for data, _ in test_loader:\n",
        "        data = data.view(data.size(0), -1)\n",
        "        output = model(data)\n",
        "        test_loss += criterion(output, data).item()\n",
        "print(f'Test Loss: {test_loss/len(test_loader):.4f}')"
      ]
    },
    {
      "cell_type": "code",
      "source": [
        "# Select 5 images for each digit\n",
        "images_per_digit = 5\n",
        "digit_images = {i: [] for i in range(10)}\n",
        "\n",
        "with torch.no_grad():\n",
        "    for data, target in test_loader:\n",
        "        for i in range(data.size(0)):\n",
        "            if len(digit_images[target[i].item()]) < images_per_digit:\n",
        "                digit_images[target[i].item()].append(data[i])\n",
        "\n",
        "fig, axs = plt.subplots(10, images_per_digit * 2, figsize=(15, 20))\n",
        "\n",
        "for digit, imgs in digit_images.items():\n",
        "    for i, img in enumerate(imgs):\n",
        "        # Original Image\n",
        "        img_original = img.view(-1)\n",
        "        axs[digit, 2*i].imshow(img_original.reshape(28, 28), cmap='gray')\n",
        "        axs[digit, 2*i].set_title(f'Original {digit}')\n",
        "        axs[digit, 2*i].axis('off')\n",
        "\n",
        "        # Reconstructed Image\n",
        "        img_reconstructed = model(img_original).view(28, 28)\n",
        "        axs[digit, 2*i+1].imshow(img_reconstructed.detach().numpy(), cmap='gray')\n",
        "        axs[digit, 2*i+1].set_title(f'Reconstructed {digit}')\n",
        "        axs[digit, 2*i+1].axis('off')\n",
        "\n",
        "plt.show()"
      ],
      "metadata": {
        "colab": {
          "base_uri": "https://localhost:8080/",
          "height": 1000
        },
        "id": "lEUjBRM9Jio4",
        "outputId": "09813f0c-ce3e-4567-924c-b36339136849"
      },
      "id": "lEUjBRM9Jio4",
      "execution_count": 14,
      "outputs": [
        {
          "output_type": "display_data",
          "data": {
            "text/plain": [
              "<Figure size 1500x2000 with 100 Axes>"
            ],
            "image/png": "[encoded data removed]"
          },
          "metadata": {}
        }
      ]
    }
  ],
  "metadata": {
    "kernelspec": {
      "display_name": "Python 3",
      "name": "python3"
    },
    "language_info": {
      "codemirror_mode": {
        "name": "ipython",
        "version": 3
      },
      "file_extension": ".py",
      "mimetype": "text/x-python",
      "name": "python",
      "nbconvert_exporter": "python",
      "pygments_lexer": "ipython3",
      "version": "3.10.8"
    },
    "colab": {
      "provenance": [],
      "gpuType": "T4"
    },
    "accelerator": "GPU"
  },
  "nbformat": 4,
  "nbformat_minor": 5
}